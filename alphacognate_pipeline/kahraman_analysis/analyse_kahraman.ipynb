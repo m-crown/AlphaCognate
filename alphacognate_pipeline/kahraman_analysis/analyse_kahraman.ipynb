{
 "cells": [
  {
   "cell_type": "code",
   "execution_count": 88,
   "id": "c0ba8e03",
   "metadata": {},
   "outputs": [],
   "source": [
    "import pandas as pd\n",
    "import requests\n",
    "import json"
   ]
  },
  {
   "cell_type": "code",
   "execution_count": 223,
   "id": "f4b0956b",
   "metadata": {},
   "outputs": [],
   "source": [
    "def get_uniprot_from_pdb_entity(pdb_id, entity_id = 1):\n",
    "    \"\"\"\n",
    "    Fetches the UniProt accession and name for a given PDB ID and entity ID using the PDBe API.\n",
    "    Where multiple mappings exist, the mapping with the highest coverage is returned.\n",
    "    \"\"\"\n",
    "    url = f\"https://www.ebi.ac.uk/pdbe/api/v2/pdb/entry/uniprot_mapping/{pdb_id}/{entity_id}\"\n",
    "    response = requests.get(url)\n",
    "    response.raise_for_status()\n",
    "    if response.status_code == 200:\n",
    "        data = response.json()\n",
    "        if pdb_id in data:\n",
    "            mapping = [{\"accession\": item['accession'], \"name\": item['name'], \"coverage\": item['residues'][0]['endIndex'] - item['residues'][0]['startIndex']} for item in data[pdb_id]['data']]\n",
    "            max_mapping = max(mapping, key=lambda x: x['coverage'])\n",
    "            if max_mapping:\n",
    "                accession = max_mapping['accession']\n",
    "                name = max_mapping['name']\n",
    "                return accession, name\n",
    "        raise ValueError(f\"Unexpected response structure: {data}\")\n",
    "    # return None\n",
    "\n",
    "def get_ec_from_uniprot(uniprot_id):\n",
    "    url = f\"https://rest.uniprot.org/uniprotkb/{uniprot_id}?fields=ec\"\n",
    "    headers = {\"Accept\": \"application/json\"}\n",
    "    response = requests.get(url, headers=headers)\n",
    "    response.raise_for_status()\n",
    "    if response.status_code == 200:\n",
    "        data = response.json()\n",
    "        protein_description = data.get('proteinDescription', {}).get('recommendedName', {})\n",
    "        if 'ecNumbers' in protein_description:\n",
    "            ec_values = [ec['value'] for ec in protein_description['ecNumbers']]\n",
    "            return ec_values\n",
    "        else:\n",
    "            return None\n",
    "    raise ValueError(f\"Unexpected response structure: {data}\")\n",
    "\n",
    "def get_alphafold_structure(uniprot_id):\n",
    "    #TODO: Return none on 404\n",
    "    \"\"\"\n",
    "    Returns the URL of the AlphaFold structure for a given UniProt ID, or None if not available.\n",
    "    \"\"\"\n",
    "    url = f\"https://alphafold.ebi.ac.uk/api/prediction/{uniprot_id}\"\n",
    "    try:\n",
    "        response = requests.get(url)\n",
    "        response.raise_for_status()\n",
    "        if response.status_code == 200:\n",
    "            data = response.json()\n",
    "            for item in data:\n",
    "                if item.get(\"uniprotAccession\", None) == uniprot_id:\n",
    "                    cif_url = item.get(\"cifUrl\", None)\n",
    "                    if cif_url:\n",
    "                        return cif_url\n",
    "        raise ValueError(f\"Unexpected response structure: {data}\")\n",
    "    except requests.exceptions.HTTPError as e:\n",
    "        if response.status_code == 404:\n",
    "            return None\n",
    "        else:\n",
    "            raise e    \n",
    "    "
   ]
  },
  {
   "cell_type": "code",
   "execution_count": null,
   "id": "0fa44c32",
   "metadata": {},
   "outputs": [],
   "source": []
  },
  {
   "cell_type": "code",
   "execution_count": null,
   "id": "d38dfef2",
   "metadata": {},
   "outputs": [],
   "source": [
    "#First write a function to get the uniprot ID from kahraman dataset (assume that no _1 suffix means entity ID 1)\n",
    "\n",
    "kahraman_table_1 = pd.read_csv(\"kahraman_dataset_table1_updated.tsv\", sep = \"\\t\")\n",
    "\n",
    "kahraman_table_1[[\"uniprot_accession\", \"uniprot_name\"]] = kahraman_table_1.apply(lambda row: get_uniprot_from_pdb_entity(row[\"updated_pdb_id\"], row[\"entity_id\"]), axis=1, result_type=\"expand\")\n",
    "\n",
    "kahraman_table_1[\"uniprot_ec\"] = kahraman_table_1[\"uniprot_accession\"].apply(lambda x: get_ec_from_uniprot(x) if pd.notna(x) else None)\n",
    "\n",
    "kahraman_table_1[\"af_cif_url\"] = kahraman_table_1[\"uniprot_accession\"].apply(lambda x: get_alphafold_structure(x) if pd.notna(x) else None)\n",
    "\n",
    "kahraman_table_1.loc[kahraman_table_1[\"af_cif_url\"].notna(), \"af_cif_filename\"] = kahraman_table_1.loc[kahraman_table_1[\"af_cif_url\"].notna(), \"af_cif_url\"].apply(lambda x: x.split('/')[-1])\n",
    "\n",
    "\n",
    "#make the cif directory if it doesn't exist\n",
    "import os\n",
    "if not os.path.exists(\"kahraman_af_structures\"):\n",
    "    os.makedirs(\"kahraman_af_structures\")\n",
    "\n",
    "for idx, row in kahraman_table_1.loc[kahraman_table_1[\"af_cif_url\"].notna()].iterrows():\n",
    "\n",
    "    cif_url = row[\"af_cif_url\"]\n",
    "    cif_filename = row[\"af_cif_filename\"]\n",
    "    structure_directory = \"kahraman_af_structures\"\n",
    "    cif_path = os.path.join(structure_directory, cif_filename)\n",
    "    if not os.path.exists(cif_path):\n",
    "        response = requests.get(cif_url, stream=True)\n",
    "        response.raise_for_status()\n",
    "\n",
    "        with open(cif_path, \"wb\") as cif_file:\n",
    "            for chunk in response.iter_content(chunk_size=8192):\n",
    "                cif_file.write(chunk)\n",
    "\n",
    "#check that all files were downloaded\n",
    "for idx, row in kahraman_table_1.loc[kahraman_table_1[\"af_cif_url\"].notna()].iterrows():\n",
    "    cif_filename = row[\"af_cif_filename\"]\n",
    "    cif_path = os.path.join(\"kahraman_af_structures\", cif_filename)\n",
    "    if not os.path.exists(cif_path):\n",
    "        print(f\"File {cif_path} not found!\")\n",
    "\n",
    "\n",
    "#now we have a directory of input structures, we need to make the structure manifest for the analysis run - accession, filename and structure directory\n",
    "\n",
    "structure_manifest = kahraman_table_1.loc[kahraman_table_1[\"af_cif_filename\"].notna(), [\"uniprot_accession\", \"af_cif_filename\"]]\n",
    "structure_manifest[\"structure_directory\"] = \"kahraman_af_structures\"\n",
    "\n",
    "structure_manifest.to_csv(\"kahraman_af_structure_manifest.tsv\", header=None index=False)\n",
    "\n",
    "\n"
   ]
  },
  {
   "cell_type": "code",
   "execution_count": 75,
   "id": "3be11b1d",
   "metadata": {},
   "outputs": [
    {
     "data": {
      "text/html": [
       "<div>\n",
       "<style scoped>\n",
       "    .dataframe tbody tr th:only-of-type {\n",
       "        vertical-align: middle;\n",
       "    }\n",
       "\n",
       "    .dataframe tbody tr th {\n",
       "        vertical-align: top;\n",
       "    }\n",
       "\n",
       "    .dataframe thead th {\n",
       "        text-align: right;\n",
       "    }\n",
       "</style>\n",
       "<table border=\"1\" class=\"dataframe\">\n",
       "  <thead>\n",
       "    <tr style=\"text-align: right;\">\n",
       "      <th></th>\n",
       "      <th>0</th>\n",
       "      <th>AF</th>\n",
       "    </tr>\n",
       "  </thead>\n",
       "  <tbody>\n",
       "    <tr>\n",
       "      <th>9</th>\n",
       "      <td>P00969</td>\n",
       "      <td>AF-P00969-F1-model_4</td>\n",
       "    </tr>\n",
       "    <tr>\n",
       "      <th>74</th>\n",
       "      <td>P00588</td>\n",
       "      <td>AF-P00588-F1-model_4</td>\n",
       "    </tr>\n",
       "  </tbody>\n",
       "</table>\n",
       "</div>"
      ],
      "text/plain": [
       "         0                    AF\n",
       "9   P00969  AF-P00969-F1-model_4\n",
       "74  P00588  AF-P00588-F1-model_4"
      ]
     },
     "execution_count": 75,
     "metadata": {},
     "output_type": "execute_result"
    }
   ],
   "source": [
    "input_uniprots.loc[input_uniprots[\"AF\"].isin(all_structures[\"accession\"]) == False]"
   ]
  },
  {
   "cell_type": "markdown",
   "id": "532409ac",
   "metadata": {},
   "source": [
    "These two structures are a bacterial protein and diptheria protein, both with no alphafold DB structures, hence they are missing from the outputs of the analysis."
   ]
  },
  {
   "cell_type": "code",
   "execution_count": 76,
   "id": "2e930f8b",
   "metadata": {},
   "outputs": [],
   "source": [
    "total_input_proteins = input_uniprots[\"AF\"].nunique() - 2"
   ]
  },
  {
   "cell_type": "code",
   "execution_count": 77,
   "id": "6825e017",
   "metadata": {},
   "outputs": [
    {
     "name": "stdout",
     "output_type": "stream",
     "text": [
      "Total number of input proteins: 101\n"
     ]
    }
   ],
   "source": [
    "print(f\"Total number of input proteins: {total_input_proteins}\")"
   ]
  },
  {
   "cell_type": "code",
   "execution_count": 78,
   "id": "5ded0c01",
   "metadata": {},
   "outputs": [
    {
     "name": "stdout",
     "output_type": "stream",
     "text": [
      "Total number of structures with no transplants: 60\n",
      "Total number of structures with transplants (any): 41\n"
     ]
    }
   ],
   "source": [
    "all_structures = pd.read_csv(\"kahraman_alphacognate_cathaf/combined_structure_summaries.tsv.gz\", sep=\"\\t\")\n",
    "\n",
    "no_transplants = all_structures.loc[all_structures.num_transplants == 0]\n",
    "print(f\"Total number of structures with no transplants: {no_transplants.accession.nunique()}\")\n",
    "\n",
    "success = all_structures.loc[all_structures.num_transplants > 0]\n",
    "print(f\"Total number of structures with transplants (any): {success.accession.nunique()}\")\n"
   ]
  },
  {
   "cell_type": "markdown",
   "id": "b40a917e",
   "metadata": {},
   "source": [
    "So first of all, we were only able to transplant any ligands to 40% of the dataset. Why is that? The ProCogGraph dataset of structures/ligands is limited to enzyme structures in the PDB, and many of the proteins in the Kahraman dataset are non-enzymes."
   ]
  },
  {
   "cell_type": "code",
   "execution_count": null,
   "id": "b8c91bc7",
   "metadata": {},
   "outputs": [],
   "source": []
  },
  {
   "cell_type": "code",
   "execution_count": null,
   "id": "303ec384",
   "metadata": {},
   "outputs": [],
   "source": []
  },
  {
   "cell_type": "code",
   "execution_count": null,
   "id": "81e8aefe",
   "metadata": {},
   "outputs": [],
   "source": [
    "all_transplants = pd.read_csv(\"kahraman_alphacognate_cathaf/combined_transplants.tsv.gz\", sep=\"\\t\")"
   ]
  },
  {
   "cell_type": "code",
   "execution_count": null,
   "id": "a54d1fdd",
   "metadata": {},
   "outputs": [],
   "source": []
  },
  {
   "cell_type": "code",
   "execution_count": 40,
   "id": "6705b0ef",
   "metadata": {},
   "outputs": [
    {
     "data": {
      "text/plain": [
       "40"
      ]
     },
     "execution_count": 40,
     "metadata": {},
     "output_type": "execute_result"
    }
   ],
   "source": [
    "all_transplants.accession.nunique() #.loc[all_transplants.top_ranked == True]"
   ]
  },
  {
   "cell_type": "code",
   "execution_count": 20,
   "id": "bd5f4c6b",
   "metadata": {},
   "outputs": [
    {
     "data": {
      "text/html": [
       "<div>\n",
       "<style scoped>\n",
       "    .dataframe tbody tr th:only-of-type {\n",
       "        vertical-align: middle;\n",
       "    }\n",
       "\n",
       "    .dataframe tbody tr th {\n",
       "        vertical-align: top;\n",
       "    }\n",
       "\n",
       "    .dataframe thead th {\n",
       "        text-align: right;\n",
       "    }\n",
       "</style>\n",
       "<table border=\"1\" class=\"dataframe\">\n",
       "  <thead>\n",
       "    <tr style=\"text-align: right;\">\n",
       "      <th></th>\n",
       "      <th>accession</th>\n",
       "      <th>transplant_structure</th>\n",
       "      <th>foldseek_rmsd</th>\n",
       "      <th>global_rmsd</th>\n",
       "      <th>local_rmsd</th>\n",
       "      <th>ligand</th>\n",
       "      <th>ligand_het_code</th>\n",
       "      <th>ligand_name</th>\n",
       "      <th>ligand_chain</th>\n",
       "      <th>ligand_residues</th>\n",
       "      <th>...</th>\n",
       "      <th>cognate_mapping_smiles</th>\n",
       "      <th>cognate_mapping_xref</th>\n",
       "      <th>cluster</th>\n",
       "      <th>cluster_center</th>\n",
       "      <th>Score</th>\n",
       "      <th>Type</th>\n",
       "      <th>nrgrank_runtime</th>\n",
       "      <th>top_ranked</th>\n",
       "      <th>transplanted_chain_id</th>\n",
       "      <th>nrgrank_tcs</th>\n",
       "    </tr>\n",
       "  </thead>\n",
       "  <tbody>\n",
       "    <tr>\n",
       "      <th>4116</th>\n",
       "      <td>AF-P00963-F1-model_4</td>\n",
       "      <td>6chd_bio-h_A</td>\n",
       "      <td>6.868</td>\n",
       "      <td>6.867851</td>\n",
       "      <td>1.334752</td>\n",
       "      <td>6chd_bm1_C</td>\n",
       "      <td>KAA</td>\n",
       "      <td>5'-O-[(L-LYSYLAMINO)SULFONYL]ADENOSINE</td>\n",
       "      <td>T</td>\n",
       "      <td>601</td>\n",
       "      <td>...</td>\n",
       "      <td>Cc1ccc(C(=O)OP(=O)(O)OCC2OC(n3cnc4c(N)ncnc43)C...</td>\n",
       "      <td>Pubchem:102515309|KEGG:C21460|CHEBI:91232</td>\n",
       "      <td>2.0</td>\n",
       "      <td>-0.8359554015638798,1.3352133429718456,-3.0370...</td>\n",
       "      <td>-1921856</td>\n",
       "      <td>ligand</td>\n",
       "      <td>191.055988</td>\n",
       "      <td>1</td>\n",
       "      <td>CH</td>\n",
       "      <td>0.871002</td>\n",
       "    </tr>\n",
       "    <tr>\n",
       "      <th>4136</th>\n",
       "      <td>AF-P00963-F1-model_4</td>\n",
       "      <td>6ilh_bio-h_A</td>\n",
       "      <td>6.764</td>\n",
       "      <td>6.764052</td>\n",
       "      <td>2.901763</td>\n",
       "      <td>6ilh_bm1_C</td>\n",
       "      <td>KAA</td>\n",
       "      <td>5'-O-[(L-LYSYLAMINO)SULFONYL]ADENOSINE</td>\n",
       "      <td>V</td>\n",
       "      <td>601</td>\n",
       "      <td>...</td>\n",
       "      <td>Cc1ccc(C(=O)OP(=O)(O)OCC2OC(n3cnc4c(N)ncnc43)C...</td>\n",
       "      <td>Pubchem:102515309|KEGG:C21460|CHEBI:91232</td>\n",
       "      <td>2.0</td>\n",
       "      <td>-0.8359554015638798,1.3352133429718456,-3.0370...</td>\n",
       "      <td>-1921856</td>\n",
       "      <td>ligand</td>\n",
       "      <td>191.055988</td>\n",
       "      <td>1</td>\n",
       "      <td>CH</td>\n",
       "      <td>0.871002</td>\n",
       "    </tr>\n",
       "  </tbody>\n",
       "</table>\n",
       "<p>2 rows × 31 columns</p>\n",
       "</div>"
      ],
      "text/plain": [
       "                 accession transplant_structure  foldseek_rmsd  global_rmsd  \\\n",
       "4116  AF-P00963-F1-model_4         6chd_bio-h_A          6.868     6.867851   \n",
       "4136  AF-P00963-F1-model_4         6ilh_bio-h_A          6.764     6.764052   \n",
       "\n",
       "      local_rmsd      ligand ligand_het_code  \\\n",
       "4116    1.334752  6chd_bm1_C             KAA   \n",
       "4136    2.901763  6ilh_bm1_C             KAA   \n",
       "\n",
       "                                 ligand_name ligand_chain  ligand_residues  \\\n",
       "4116  5'-O-[(L-LYSYLAMINO)SULFONYL]ADENOSINE            T              601   \n",
       "4136  5'-O-[(L-LYSYLAMINO)SULFONYL]ADENOSINE            V              601   \n",
       "\n",
       "      ...                             cognate_mapping_smiles  \\\n",
       "4116  ...  Cc1ccc(C(=O)OP(=O)(O)OCC2OC(n3cnc4c(N)ncnc43)C...   \n",
       "4136  ...  Cc1ccc(C(=O)OP(=O)(O)OCC2OC(n3cnc4c(N)ncnc43)C...   \n",
       "\n",
       "                           cognate_mapping_xref cluster  \\\n",
       "4116  Pubchem:102515309|KEGG:C21460|CHEBI:91232     2.0   \n",
       "4136  Pubchem:102515309|KEGG:C21460|CHEBI:91232     2.0   \n",
       "\n",
       "                                         cluster_center    Score    Type  \\\n",
       "4116  -0.8359554015638798,1.3352133429718456,-3.0370... -1921856  ligand   \n",
       "4136  -0.8359554015638798,1.3352133429718456,-3.0370... -1921856  ligand   \n",
       "\n",
       "      nrgrank_runtime  top_ranked transplanted_chain_id nrgrank_tcs  \n",
       "4116       191.055988           1                    CH    0.871002  \n",
       "4136       191.055988           1                    CH    0.871002  \n",
       "\n",
       "[2 rows x 31 columns]"
      ]
     },
     "execution_count": 20,
     "metadata": {},
     "output_type": "execute_result"
    }
   ],
   "source": [
    "all_transplants.loc[(all_transplants.accession == \"AF-P00963-F1-model_4\") & (all_transplants.top_ranked == True)]"
   ]
  }
 ],
 "metadata": {
  "kernelspec": {
   "display_name": "alphacognate_pipeline",
   "language": "python",
   "name": "python3"
  },
  "language_info": {
   "codemirror_mode": {
    "name": "ipython",
    "version": 3
   },
   "file_extension": ".py",
   "mimetype": "text/x-python",
   "name": "python",
   "nbconvert_exporter": "python",
   "pygments_lexer": "ipython3",
   "version": "3.11.12"
  }
 },
 "nbformat": 4,
 "nbformat_minor": 5
}
